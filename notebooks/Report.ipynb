{
 "cells": [
  {
   "cell_type": "markdown",
   "id": "fa206826",
   "metadata": {},
   "source": [
    "# **Report**\n",
    "\n",
    "introduction\n",
    "Structure\n",
    "Example Usage + Application (vary, to showcase different scenarios)\n",
    "Tests (same ones, to offer a benchmark for comparison)"
   ]
  },
  {
   "cell_type": "markdown",
   "id": "499d04c2",
   "metadata": {},
   "source": [
    "## **Linear Congruential Generator**\n"
   ]
  },
  {
   "cell_type": "code",
   "execution_count": null,
   "id": "38532fa3",
   "metadata": {},
   "outputs": [],
   "source": [
    "# Example Usage of LCG "
   ]
  },
  {
   "cell_type": "markdown",
   "id": "fc58e751",
   "metadata": {},
   "source": [
    "tests"
   ]
  },
  {
   "cell_type": "code",
   "execution_count": null,
   "id": "815731b1",
   "metadata": {},
   "outputs": [],
   "source": [
    "# Run Tests"
   ]
  },
  {
   "cell_type": "markdown",
   "id": "4e06fb35",
   "metadata": {},
   "source": [
    "analyze results"
   ]
  },
  {
   "cell_type": "markdown",
   "id": "96b3636c",
   "metadata": {},
   "source": [
    "## **Mersenne Twister**\n"
   ]
  },
  {
   "cell_type": "markdown",
   "id": "5d9ddc1f",
   "metadata": {},
   "source": [
    "## **TBD**\n",
    "see what numpy does?"
   ]
  },
  {
   "cell_type": "markdown",
   "id": "7013b080",
   "metadata": {},
   "source": [
    "## **Simulations with different PRNGs**\n",
    "We have seen different simulations with different PRNGs, but let's also take a look at one simulation with all of the analyzed generators -> more astro?"
   ]
  }
 ],
 "metadata": {
  "language_info": {
   "name": "python"
  }
 },
 "nbformat": 4,
 "nbformat_minor": 5
}
