{
 "cells": [
  {
   "cell_type": "markdown",
   "id": "fa206826",
   "metadata": {},
   "source": [
    "# **Report**\n",
    "\n",
    "make this nicer-looking\n",
    "\n",
    "introduction\n",
    "Structure\n",
    "Example Usage + Application (vary, to showcase different scenarios)\n",
    "Tests (same ones, to offer a benchmark for comparison)"
   ]
  },
  {
   "cell_type": "markdown",
   "id": "499d04c2",
   "metadata": {},
   "source": [
    "## **Linear Congruential Generator**\n",
    "\n",
    "The Linear Congruential Generator is one of the oldest ways to generate pseudorandom numbers. It's easy to understand and easy to implement, making it one of the best-known approaches to randomness in computers.\n",
    "\n",
    "The generator is defined by the following relation:\n",
    "\n",
    "$$X_{n+1} = (aX_n + c) \\ \\text{mod}\\ m$$\n",
    "\n",
    "with $X$ being the sequence of pseudo-random values, and\n",
    "\n",
    "1. the *modulus* $m$, $m>0$\n",
    "2. the *multiplier* $a$, $0<a<m$\n",
    "3. the *increment* $c$, $0 \\leq c < m$\n",
    "4. the *seed* $X_0$, $0 \\leq X_0 < m$\n",
    "\n",
    "At every step, the formula updates the state and produces a new number. It is very fast and easy to implement; completely deterministic (same seed → same sequence), but the quality of randomness depends heavily on the choice of 𝑎, 𝑐, and 𝑚.\n",
    "\n",
    "The main idea is that the modulo operation keeps numbers inside a fixed range, with the recurrence relation generating a sequence that \"hops\" around within that range. With good parameter choices, these hops approximate randomness.\n",
    "\n",
    "The literature talks about some known limitations, but we will see these hands on when we perform some tests on the method. \n",
    "### **Multiplicative Congruential Generators**\n",
    "\n",
    "### **Mixed Congruential Generators**\n",
    "\n",
    "Sources:\n",
    "1. https://en.wikipedia.org/wiki/Linear_congruential_generator"
   ]
  },
  {
   "cell_type": "code",
   "execution_count": 1,
   "id": "38532fa3",
   "metadata": {},
   "outputs": [
    {
     "name": "stdout",
     "output_type": "stream",
     "text": [
      "0.2523451747838408\n",
      "0.08812504541128874\n",
      "0.5772811982315034\n",
      "0.22255426598712802\n",
      "0.37566019711084664\n",
      "0.02566390484571457\n",
      "0.4472812858875841\n",
      "0.1184600037522614\n",
      "0.8738137057516724\n",
      "0.9946342753246427\n"
     ]
    }
   ],
   "source": [
    "# Example Usage of the LCG Generator \n",
    "\n",
    "import sys\n",
    "import os\n",
    "\n",
    "# Get the absolute path to the project root\n",
    "project_root = os.path.abspath(os.path.join(os.getcwd(), '..'))\n",
    "sys.path.insert(0, project_root)\n",
    "\n",
    "from prngs.lcg import LCG\n",
    "\n",
    "# Example Parameters\n",
    "modulus = 2**32\n",
    "a = 1664525\n",
    "c = 1013904223\n",
    "seed = 42\n",
    "\n",
    "# Initialize generator\n",
    "rng = LCG(seed=seed, a=a, c=c, m=modulus)\n",
    "\n",
    "# Generate 10 random numbers (scaled to [0,1))\n",
    "for _ in range(10):\n",
    "    value = LCG.next(rng)\n",
    "    print(value)"
   ]
  },
  {
   "cell_type": "code",
   "execution_count": 2,
   "id": "7e84d422",
   "metadata": {},
   "outputs": [
    {
     "name": "stdout",
     "output_type": "stream",
     "text": [
      "3.1192\n"
     ]
    }
   ],
   "source": [
    "# Example Application of LCG: Estimate pi using Monte Carlo Method\n",
    "# Good for: Demonstrating uniformity and independence, but more in the test section.\n",
    "\n",
    "num_samples = 10000\n",
    "inside_circle = 0\n",
    "\n",
    "for _ in range(num_samples):\n",
    "    x = LCG.next(rng) \n",
    "    y = LCG.next(rng)\n",
    "    if x**2 + y**2 <= 1.0:\n",
    "        inside_circle += 1\n",
    "\n",
    "pi_estimate = 4 * inside_circle / num_samples\n",
    "print(pi_estimate)"
   ]
  },
  {
   "cell_type": "markdown",
   "id": "fc58e751",
   "metadata": {},
   "source": [
    "but just how good is this in more practical terms? tests\n",
    "\n",
    "explain the tests"
   ]
  },
  {
   "cell_type": "code",
   "execution_count": 6,
   "id": "815731b1",
   "metadata": {},
   "outputs": [
    {
     "name": "stdout",
     "output_type": "stream",
     "text": [
      "Running PRNG test suite...\n",
      "✅ Range test passed\n",
      "Mean: 0.50124, Variance: 0.08305\n",
      "✅ Moments test passed\n",
      "Chi-squared test p-value: 0.87531\n",
      "✅ Uniformity test passed\n",
      "Lag-1 autocorrelation: 0.00243\n",
      "✅ Autocorrelation test passed\n"
     ]
    },
    {
     "data": {
      "image/png": "[encoded data removed]",
      "text/plain": [
       "<Figure size 640x480 with 1 Axes>"
      ]
     },
     "metadata": {},
     "output_type": "display_data"
    },
    {
     "name": "stdout",
     "output_type": "stream",
     "text": [
      "🎉 All tests passed!\n"
     ]
    }
   ],
   "source": [
    "from tests.tests import general_tests\n",
    "\n",
    "# Run Tests\n",
    "rng = LCG(seed=42, a=a, c=c, m=modulus)\n",
    "\n",
    "general_tests(lambda: rng.next(), plot=True)"
   ]
  },
  {
   "cell_type": "markdown",
   "id": "4e06fb35",
   "metadata": {},
   "source": [
    "analyze results"
   ]
  },
  {
   "cell_type": "markdown",
   "id": "96b3636c",
   "metadata": {},
   "source": [
    "## **Mersenne Twister**\n"
   ]
  },
  {
   "cell_type": "code",
   "execution_count": null,
   "id": "5938d3fe",
   "metadata": {},
   "outputs": [],
   "source": [
    "# Example Usage of MT"
   ]
  },
  {
   "cell_type": "markdown",
   "id": "08b605b2",
   "metadata": {},
   "source": [
    "tests"
   ]
  },
  {
   "cell_type": "code",
   "execution_count": null,
   "id": "4baeb93e",
   "metadata": {},
   "outputs": [],
   "source": [
    "# Run Tests"
   ]
  },
  {
   "cell_type": "markdown",
   "id": "5d9ddc1f",
   "metadata": {},
   "source": [
    "## **Numpy's approach to randomness**\n",
    "see what numpy does?"
   ]
  },
  {
   "cell_type": "code",
   "execution_count": null,
   "id": "b986fd7d",
   "metadata": {},
   "outputs": [],
   "source": [
    "# Show off the methods"
   ]
  },
  {
   "cell_type": "markdown",
   "id": "72e887e4",
   "metadata": {},
   "source": [
    "tests"
   ]
  },
  {
   "cell_type": "code",
   "execution_count": null,
   "id": "78584818",
   "metadata": {},
   "outputs": [],
   "source": [
    "# Run Tests"
   ]
  },
  {
   "cell_type": "markdown",
   "id": "7013b080",
   "metadata": {},
   "source": [
    "## **Simulations with different PRNGs**\n",
    "We have seen different simulations with different PRNGs, but let's also take a look at one simulation with all of the analyzed generators -> more astro?"
   ]
  }
 ],
 "metadata": {
  "kernelspec": {
   "display_name": "CompAstro",
   "language": "python",
   "name": "python3"
  },
  "language_info": {
   "codemirror_mode": {
    "name": "ipython",
    "version": 3
   },
   "file_extension": ".py",
   "mimetype": "text/x-python",
   "name": "python",
   "nbconvert_exporter": "python",
   "pygments_lexer": "ipython3",
   "version": "3.13.2"
  }
 },
 "nbformat": 4,
 "nbformat_minor": 5
}
